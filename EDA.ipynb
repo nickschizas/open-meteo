{
 "cells": [
  {
   "cell_type": "code",
   "execution_count": 15,
   "metadata": {},
   "outputs": [],
   "source": [
    "# packages\n",
    "import pandas as pd\n",
    "import matplotlib.pyplot as plt\n",
    "from datetime import datetime"
   ]
  },
  {
   "cell_type": "code",
   "execution_count": 65,
   "metadata": {},
   "outputs": [],
   "source": [
    "# import data\n",
    "path = r'./data/'\n",
    "filename = 'historical_data_20240731_00-36.csv'\n",
    "data_raw = pd.read_csv(path+filename, sep=';')\n",
    "data_raw.datetime = pd.to_datetime(data_raw.datetime).dt.tz_convert('UTC')"
   ]
  },
  {
   "cell_type": "code",
   "execution_count": 40,
   "metadata": {},
   "outputs": [],
   "source": [
    "# check dtypes of\n",
    "# weather code\n",
    "# wind_direction_\n",
    "# is_day"
   ]
  },
  {
   "cell_type": "markdown",
   "metadata": {},
   "source": [
    "# Exploratory Data Analysis"
   ]
  },
  {
   "cell_type": "code",
   "execution_count": 30,
   "metadata": {},
   "outputs": [
    {
     "data": {
      "text/plain": [
       "datetime                          object\n",
       "temperature_2m                   float64\n",
       "relative_humidity_2m             float64\n",
       "dew_point_2m                     float64\n",
       "apparent_temperature             float64\n",
       "precipitation                    float64\n",
       "rain                             float64\n",
       "snowfall                         float64\n",
       "snow_depth                       float64\n",
       "weather_code                     float64\n",
       "pressure_msl                     float64\n",
       "surface_pressure                 float64\n",
       "cloud_cover                      float64\n",
       "cloud_cover_low                  float64\n",
       "cloud_cover_mid                  float64\n",
       "cloud_cover_high                 float64\n",
       "et0_fao_evapotranspiration       float64\n",
       "vapour_pressure_deficit          float64\n",
       "wind_speed_10m                   float64\n",
       "wind_speed_100m                  float64\n",
       "wind_direction_10m               float64\n",
       "wind_direction_100m              float64\n",
       "wind_gusts_10m                   float64\n",
       "soil_temperature_0_to_7cm        float64\n",
       "soil_temperature_7_to_28cm       float64\n",
       "soil_temperature_28_to_100cm     float64\n",
       "soil_temperature_100_to_255cm    float64\n",
       "soil_moisture_0_to_7cm           float64\n",
       "soil_moisture_7_to_28cm          float64\n",
       "soil_moisture_28_to_100cm        float64\n",
       "soil_moisture_100_to_255cm       float64\n",
       "is_day                           float64\n",
       "sunshine_duration                float64\n",
       "dtype: object"
      ]
     },
     "execution_count": 30,
     "metadata": {},
     "output_type": "execute_result"
    }
   ],
   "source": [
    "data_raw.dtypes"
   ]
  },
  {
   "cell_type": "code",
   "execution_count": 96,
   "metadata": {},
   "outputs": [],
   "source": [
    "now = datetime.now()\n",
    "start_period = datetime(now.year, now.month-1, now.day-1)\n",
    "\n",
    "period_data = data_raw[data_raw.datetime > start_period.strftime('%Y-%m-%d')].reset_index(drop=True)"
   ]
  },
  {
   "cell_type": "code",
   "execution_count": 97,
   "metadata": {},
   "outputs": [
    {
     "data": {
      "image/png": "[encoded data removed]",
      "text/plain": [
       "<Figure size 640x480 with 1 Axes>"
      ]
     },
     "metadata": {},
     "output_type": "display_data"
    }
   ],
   "source": [
    "plt.plot(period_data.datetime, period_data.sunshine_duration, alpha=0.8, color='lightgreen')\n",
    "plt.show()"
   ]
  },
  {
   "cell_type": "code",
   "execution_count": null,
   "metadata": {},
   "outputs": [],
   "source": []
  },
  {
   "cell_type": "code",
   "execution_count": null,
   "metadata": {},
   "outputs": [],
   "source": []
  }
 ],
 "metadata": {
  "kernelspec": {
   "display_name": ".venv",
   "language": "python",
   "name": "python3"
  },
  "language_info": {
   "codemirror_mode": {
    "name": "ipython",
    "version": 3
   },
   "file_extension": ".py",
   "mimetype": "text/x-python",
   "name": "python",
   "nbconvert_exporter": "python",
   "pygments_lexer": "ipython3",
   "version": "3.12.4"
  }
 },
 "nbformat": 4,
 "nbformat_minor": 2
}
